{
 "cells": [
  {
   "cell_type": "code",
   "execution_count": null,
   "id": "91c03f44-1813-452f-8c2e-7e74cfd89c78",
   "metadata": {},
   "outputs": [],
   "source": [
    "Q1"
   ]
  },
  {
   "cell_type": "code",
   "execution_count": null,
   "id": "b333b3d5-12a4-463a-a4f5-4b891694e8a6",
   "metadata": {},
   "outputs": [],
   "source": [
    "1. For loop is used when number of iteration is known and while loop is used when number of iteration is unknown. \n",
    "Basically if we know number of times iteration has to inoccur to have the desired output \"for\" loop is used\n",
    "otherwise \"while\" should be used. For example if we have a list of numbers we can find the multiplication\n",
    "of all the numbers within the list.\n",
    "While can be used where output is required to find even numbers between 150 to 200\n"
   ]
  },
  {
   "cell_type": "code",
   "execution_count": 3,
   "id": "2f5c1b93-6ed0-414e-b92e-a1ebc4acc198",
   "metadata": {},
   "outputs": [
    {
     "data": {
      "text/plain": [
       "4838400"
      ]
     },
     "execution_count": 3,
     "metadata": {},
     "output_type": "execute_result"
    }
   ],
   "source": [
    "l = [1,2,2,3,4,5,4,6,7,4,5,6]\n",
    "l1 = 1\n",
    "for i in l:\n",
    "    l1 = l1 * i\n",
    "l1"
   ]
  },
  {
   "cell_type": "code",
   "execution_count": 1,
   "id": "f7cbb9fb-1fc7-43c0-bcaa-7bb94377f667",
   "metadata": {},
   "outputs": [
    {
     "name": "stdout",
     "output_type": "stream",
     "text": [
      "152\n",
      "153\n",
      "154\n",
      "155\n",
      "156\n",
      "157\n",
      "158\n",
      "159\n",
      "160\n",
      "161\n",
      "162\n",
      "163\n",
      "164\n",
      "165\n",
      "166\n",
      "167\n",
      "168\n",
      "169\n",
      "170\n",
      "171\n",
      "172\n",
      "173\n",
      "174\n",
      "175\n",
      "176\n",
      "177\n",
      "178\n",
      "179\n",
      "180\n",
      "181\n",
      "182\n",
      "183\n",
      "184\n",
      "185\n",
      "186\n",
      "187\n",
      "188\n",
      "189\n",
      "190\n",
      "191\n",
      "192\n",
      "193\n",
      "194\n",
      "195\n",
      "196\n",
      "197\n",
      "198\n",
      "199\n",
      "200\n",
      "201\n",
      "202\n"
     ]
    }
   ],
   "source": [
    "n = 150\n",
    "result = 0\n",
    "\n",
    "while n <= 200:\n",
    "    result = n + 2\n",
    "    print(result)\n",
    "    n += 1"
   ]
  },
  {
   "cell_type": "code",
   "execution_count": null,
   "id": "da17f6e4-a904-403c-bc32-00158c9685a8",
   "metadata": {},
   "outputs": [],
   "source": [
    "Q2"
   ]
  },
  {
   "cell_type": "code",
   "execution_count": null,
   "id": "6e024aaa-126a-4332-ac48-5c2e98caaaa8",
   "metadata": {},
   "outputs": [],
   "source": [
    "using for loop"
   ]
  },
  {
   "cell_type": "code",
   "execution_count": 1,
   "id": "3c813efa-04d1-4ca3-ab4d-07b1d0a6de48",
   "metadata": {},
   "outputs": [
    {
     "name": "stdout",
     "output_type": "stream",
     "text": [
      " The sum is:  55\n",
      " The product is:  3628800\n"
     ]
    }
   ],
   "source": [
    "s = 0\n",
    "p = 1\n",
    "for i in range(1,11):\n",
    "    s += i\n",
    "    p *= i\n",
    "    \n",
    "print(\" The sum is: \",s)\n",
    "print(\" The product is: \",p)"
   ]
  },
  {
   "cell_type": "code",
   "execution_count": null,
   "id": "5d75a8ea-bbd2-4619-b5bb-e8a92c955d2e",
   "metadata": {},
   "outputs": [],
   "source": [
    "using while loop"
   ]
  },
  {
   "cell_type": "code",
   "execution_count": 4,
   "id": "2e5ac59b-e115-48d5-acf6-23ac4fb72161",
   "metadata": {},
   "outputs": [
    {
     "name": "stdout",
     "output_type": "stream",
     "text": [
      "The sum is:  55\n",
      "the product is:  3628800\n"
     ]
    }
   ],
   "source": [
    "s = 0\n",
    "p = 1\n",
    "i = 1\n",
    "\n",
    "while i <= 10:\n",
    "    s += i\n",
    "    p *= i\n",
    "    i += 1\n",
    "print(\"The sum is: \",s)\n",
    "print(\"the product is: \",p)"
   ]
  },
  {
   "cell_type": "code",
   "execution_count": null,
   "id": "9b7c51e7-430a-4e70-827a-ef8cf4e48f86",
   "metadata": {},
   "outputs": [],
   "source": [
    "Q3"
   ]
  },
  {
   "cell_type": "code",
   "execution_count": 5,
   "id": "e4884d74-1189-4674-85cd-a2e0fb4e40ba",
   "metadata": {},
   "outputs": [
    {
     "name": "stdin",
     "output_type": "stream",
     "text": [
      "Enter the total number of unit consumed 310\n"
     ]
    },
    {
     "name": "stdout",
     "output_type": "stream",
     "text": [
      "The total electricity bill is:  2250.0\n"
     ]
    }
   ],
   "source": [
    "total_units = int(input(\"Enter the total number of unit consumed\"))\n",
    "                  \n",
    "unit_price = [4.5, 6, 10, 20]\n",
    "unit_count = [100, 100, 100, float('inf')]\n",
    "              \n",
    "bill = 0\n",
    "i = 0\n",
    "              \n",
    "while total_units > 0:\n",
    "    if total_units >= unit_count[i]:\n",
    "       bill += unit_count[i]*unit_price[i]\n",
    "       total_units -= unit_count[i]\n",
    "    \n",
    "    else:\n",
    "        bill += total_units * unit_price[i]\n",
    "        total_units = 0\n",
    "              \n",
    "    i += 1\n",
    "              \n",
    "print(\"The total electricity bill is: \", bill)"
   ]
  },
  {
   "cell_type": "code",
   "execution_count": null,
   "id": "e0335265-34c6-4907-af79-cd16f07cb2a7",
   "metadata": {},
   "outputs": [],
   "source": [
    "Q4"
   ]
  },
  {
   "cell_type": "code",
   "execution_count": 1,
   "id": "2571dffa-1b74-4a1f-8f67-e6678a2872b2",
   "metadata": {},
   "outputs": [
    {
     "name": "stdout",
     "output_type": "stream",
     "text": [
      "Using for loop:\n",
      "Number whose cubes are divisible by 4 or 5 are: [2, 4, 5, 6, 8, 10, 12, 14, 15, 16, 18, 20, 22, 24, 25, 26, 28, 30, 32, 34, 35, 36, 38, 40, 42, 44, 45, 46, 48, 50, 52, 54, 55, 56, 58, 60, 62, 64, 65, 66, 68, 70, 72, 74, 75, 76, 78, 80, 82, 84, 85, 86, 88, 90, 92, 94, 95, 96, 98, 100]\n"
     ]
    }
   ],
   "source": [
    "result_list = []\n",
    "\n",
    "for i in range(1,101):\n",
    "    cube = i**3\n",
    "    if cube % 4 == 0 or cube % 5 ==0:\n",
    "        result_list.append(i)\n",
    "        \n",
    "print('Using for loop:')\n",
    "print('Number whose cubes are divisible by 4 or 5 are:', result_list)"
   ]
  },
  {
   "cell_type": "code",
   "execution_count": null,
   "id": "cc7e8d6b-ec35-44b0-b7f4-fbce98a147c8",
   "metadata": {},
   "outputs": [],
   "source": [
    "num = 1\n",
    "result_list = []\n",
    "\n",
    "while num <=100:\n",
    "    cube = num**3\n",
    "    if cube%4 == 0 or cube%5 == 0:\n",
    "        result_list.append(num)\n",
    "    num += 1\n",
    "    \n",
    "print('\\nUsing While Loop:')\n",
    "print('Numbers whose cubes are ')"
   ]
  },
  {
   "cell_type": "code",
   "execution_count": null,
   "id": "1b70af3a-0662-49b2-bdf3-ccb8f87c60f0",
   "metadata": {},
   "outputs": [],
   "source": [
    "num = 1\n",
    "result_list_while = []\n",
    "\n",
    "# While loop to calculate cube and check divisibility\n",
    "while num <= 100:\n",
    "    cube = num ** 3\n",
    "    if cube % 4 == 0 or cube % 5 == 0:\n",
    "        result_list_while.append(num)\n",
    "    num += 1\n",
    "\n",
    "# Print the result list\n",
    "print(\"\\nUsing While Loop:\")\n",
    "print(\"Numbers whose cubes are divisible by 4 or 5:\", result_list_while)\n"
   ]
  },
  {
   "cell_type": "code",
   "execution_count": null,
   "id": "1ecc484b-f3ee-47c5-a548-6139f18aa60a",
   "metadata": {},
   "outputs": [],
   "source": [
    "Q5"
   ]
  },
  {
   "cell_type": "code",
   "execution_count": 1,
   "id": "981a972b-1a28-4621-9033-4a0ce9ca0a99",
   "metadata": {},
   "outputs": [
    {
     "name": "stdout",
     "output_type": "stream",
     "text": [
      "12\n"
     ]
    }
   ],
   "source": [
    "s = \"I want to become a data scientist\"\n",
    "v = \"aeiouAEIOU\"\n",
    "count = 0\n",
    "for char in s:\n",
    "    if char in v:\n",
    "        count += 1\n",
    "print(count)\n",
    "        "
   ]
  },
  {
   "cell_type": "code",
   "execution_count": null,
   "id": "0afa6cb1-48f8-4157-90d0-5c072ad3793f",
   "metadata": {},
   "outputs": [],
   "source": []
  }
 ],
 "metadata": {
  "kernelspec": {
   "display_name": "Python 3 (ipykernel)",
   "language": "python",
   "name": "python3"
  },
  "language_info": {
   "codemirror_mode": {
    "name": "ipython",
    "version": 3
   },
   "file_extension": ".py",
   "mimetype": "text/x-python",
   "name": "python",
   "nbconvert_exporter": "python",
   "pygments_lexer": "ipython3",
   "version": "3.10.6"
  }
 },
 "nbformat": 4,
 "nbformat_minor": 5
}
